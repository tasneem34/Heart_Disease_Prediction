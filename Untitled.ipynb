{
 "cells": [
  {
   "cell_type": "code",
   "execution_count": null,
   "id": "3448d681",
   "metadata": {},
   "outputs": [],
   "source": [
    "#models accuracy before and after normalization \n",
    "\n",
    "#before\n",
    "\n",
    "x_b=data.drop(['HeartDisease'],axis=1)\n",
    "y_b=data.HeartDisease.values\n",
    "\n",
    "xb_train,xb_test,yb_train,yb_test=train_test_split(x_b,y_b,test_size=0.2)\n",
    "diagnosis_ClassifierDTb= DecisionTreeClassifier(max_leaf_nodes=10,random_state=0,min_samples_leaf=5)\n",
    "diagnosis_ClassifierRandomForestb= RandomForestClassifier(n_estimators = 300)\n",
    "\n",
    "\n",
    "#DT\n",
    "diagnosis_ClassifierDTb.fit(xb_train, yb_train)\n",
    "diagnosis_predictDTb = diagnosis_ClassifierDTb.predict(xb_test)\n",
    "accDTb = accuracy_score(diagnosis_predictDTb, yb_test)\n",
    "training_accuracy = diagnosis_ClassifierDTb.score(xb_train, yb_train)\n",
    "print(\"DT traning= \" + str(training_accuracy * 100))\n",
    "print(\"DT testing= \" + str(accDTb * 100))\n",
    "\n",
    "#RandomForest\n",
    "diagnosis_ClassifierRandomForestb.fit(xb_train, yb_train)\n",
    "diagnosis_predictRandomForestb = diagnosis_ClassifierRandomForestb.predict(xb_test)\n",
    "accRFb = accuracy_score(yb_test,diagnosis_predictRandomForestb)\n",
    "training_accuracy = diagnosis_ClassifierRandomForestb.score(xb_train, yb_train)\n",
    "print(\"RandomForest traning= \" + str(training_accuracy * 100))\n",
    "print(\"RandomForest testing= \" + str(accRFb * 100))\n"
   ]
  },
  {
   "cell_type": "code",
   "execution_count": null,
   "id": "6cee91f0",
   "metadata": {},
   "outputs": [],
   "source": [
    "#models accuracy before and after normalization \n",
    "\n",
    "#before\n",
    "\n",
    "x_b=data.drop(['HeartDisease'],axis=1)\n",
    "y_b=data.HeartDisease.values\n",
    "\n",
    "xb_train,xb_test,yb_train,yb_test=train_test_split(x_b,y_b,test_size=0.2)\n",
    "diagnosis_ClassifierKNNb= KNeighborsClassifier( n_neighbors=30)\n",
    "diagnosis_ClassifierCNNb = MLPClassifier( random_state=42, max_iter=1000, warm_start=True)\n",
    "\n",
    "\n",
    "\n",
    "\n",
    "#KNN\n",
    "diagnosis_ClassifierKNNb.fit(xb_train, yb_train)\n",
    "diagnosis_predictKNNb = diagnosis_ClassifierKNNb.predict(xb_test)\n",
    "accKNNb = accuracy_score( yb_test,diagnosis_predictKNNb)\n",
    "training_accuracy = diagnosis_ClassifierKNNb.score(xb_train, yb_train)\n",
    "print(\"KNN traning= \" + str(training_accuracy * 100))\n",
    "print(\"KNN testing = \" + str(accKNNb * 100))\n",
    "\n",
    "\n",
    "#CNN\n",
    "diagnosis_ClassifierCNNb.fit(xb_train, yb_train)\n",
    "diagnosis_predictCNNb = diagnosis_ClassifierCNNb.predict(xb_test)\n",
    "accCNNb = accuracy_score(yb_test,diagnosis_predictCNNb)\n",
    "training_accuracy = diagnosis_ClassifierCNNb.score(xb_train, yb_train)\n",
    "print(\"MLP traning= \" + str(training_accuracy * 100))\n",
    "print(\"MLP testing= \" + str(accCNNb * 100))\n"
   ]
  }
 ],
 "metadata": {
  "kernelspec": {
   "display_name": "Python 3",
   "language": "python",
   "name": "python3"
  },
  "language_info": {
   "codemirror_mode": {
    "name": "ipython",
    "version": 3
   },
   "file_extension": ".py",
   "mimetype": "text/x-python",
   "name": "python",
   "nbconvert_exporter": "python",
   "pygments_lexer": "ipython3",
   "version": "3.8.8"
  }
 },
 "nbformat": 4,
 "nbformat_minor": 5
}
